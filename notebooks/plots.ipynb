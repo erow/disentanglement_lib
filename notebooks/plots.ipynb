{
 "cells": [
  {
   "cell_type": "code",
   "execution_count": null,
   "metadata": {
    "collapsed": false,
    "pycharm": {
     "name": "#%% \n"
    }
   },
   "outputs": [],
   "source": [
    "import matplotlib \n",
    "import seaborn as sns\n",
    "%matplotlib inline\n",
    "# plt.style.use(['science','no-latex'])\n",
    "matplotlib.rcParams.update({'font.size':8})\n",
    "from fastai.vision.all import *\n",
    "def get_df(runs):\n",
    "    id_df=pd.DataFrame({'id':[run.id for run in runs]})\n",
    "    summary_df = pd.DataFrame.from_records([{k:v for k,v in run.summary._json_dict.items() if not k.startswith('_')} for run in runs]) \n",
    "    config_df = pd.DataFrame.from_records([{k:v for k,v in run.config.items() if not k.startswith('_')} for run in runs])\n",
    "    return pd.concat([id_df,config_df,summary_df],axis=1)\n"
   ]
  },
  {
   "cell_type": "code",
   "execution_count": null,
   "metadata": {
    "collapsed": true,
    "pycharm": {
     "name": "#%% \n"
    }
   },
   "outputs": [],
   "source": [
    "# IFP distribution\n",
    "IFP_distribution = pd.read_csv('results/IFP_dis.csv')\n",
    "IFP_distribution1 = pd.read_csv('results/IFP_scream_color_dis.csv')\n",
    "\n",
    "fig,axes = plt.subplots(2,2,figsize=(6.84,4),dpi=100)\n",
    "plt.tight_layout(pad=1.08,h_pad=2)\n",
    "axes = axes.flatten()\n",
    "\n",
    "for i, ds in enumerate(['smallnorb','dsprites_full','color_dsprites']):\n",
    "    ax = axes[i]\n",
    "    ax.set_title(ds)\n",
    "    mask = (IFP_distribution['dataset'] == ds)\n",
    "    ds = IFP_distribution[mask]\n",
    "    for a, df in ds.groupby('action'):\n",
    "        sns.kdeplot(df['IFP'],label=a,shade=True,ax=ax)\n",
    "    ax.legend()\n",
    "    ax.set_xlim(0,None)\n",
    "    \n",
    "ax = axes[3]\n",
    "ax.set_title('scream_dsprites')\n",
    "mask = (IFP_distribution1['dataset'] == 'scream_dsprites')\n",
    "ds = IFP_distribution1[mask]\n",
    "for a, df in ds.groupby('factor'):\n",
    "    sns.kdeplot(df['IFP'],label=int(a),shade=True,ax=ax)\n",
    "ax.legend()\n",
    "ax.set_xlim(None,200)\n",
    "plt.savefig('pics/IFP_distribution.pdf')"
   ]
  },
  {
   "cell_type": "code",
   "execution_count": null,
   "metadata": {
    "collapsed": false,
    "pycharm": {
     "name": "#%%\n"
    }
   },
   "outputs": [],
   "source": [
    "# Information Diffusion, NMI2\n",
    "r= api.run('erow/dlib/23kjiyy2')\n",
    "nmi = r.history(keys=['discrete_mi'])['discrete_mi'].values.tolist()/np.log([[[3,6,40,32,32]]])\n",
    "nmi.sort(1)\n",
    "NMI2 = nmi[:,-2].max(1)\n",
    "plt.plot(NMI2)\n"
   ]
  },
  {
   "cell_type": "code",
   "execution_count": null,
   "metadata": {
    "collapsed": false,
    "pycharm": {
     "name": "#%%\n"
    }
   },
   "outputs": [],
   "source": [
    "# Information leakage\n",
    "run=api.run('erow/dlib/2qidd1r3')\n",
    "his=run.history(keys=['discrete_mi'])\n",
    "run.config['loss']\n",
    "\n",
    "mi=np.array(his.iloc[:,1].values.tolist())\n",
    "mi.shape\n",
    "nmi = mi / np.log([[[3,6,40,32,32]]])\n",
    "nmi.sort(1)\n",
    "plt.subplots(figsize=(3,2),dpi=200)\n",
    "g=sns.heatmap(nmi[::2,-1],\n",
    "            annot=True,fmt='.2f',annot_kws={\"size\":4})\n",
    "g.set_xticklabels(['shape','scale','orientation','posX','posY'],rotation=30)\n",
    "plt.ylabel('1e4')\n",
    "plt.savefig('pics/IL_NMI1.pdf')\n",
    "\n",
    "plt.subplots(figsize=(3,2),dpi=100)\n",
    "g=sns.heatmap(nmi[::2,-2],\n",
    "            annot=True,fmt='.2f',annot_kws={\"size\":4})\n",
    "g.set_xticklabels(['shape','scale','orientation','posX','posY'],rotation=30)\n",
    "plt.ylabel('1e4')\n",
    "plt.savefig('pics/IL_NMI2.pdf')"
   ]
  },
  {
   "cell_type": "code",
   "execution_count": null,
   "metadata": {
    "collapsed": false,
    "pycharm": {
     "name": "#%%\n"
    }
   },
   "outputs": [],
   "source": [
    "# gamma\n",
    "# runs =api.runs('public/fractionVAE',{'tags':'gamma','config.base':\"70\"})\n",
    "# runs\n",
    "data = pd.read_csv('gamma.csv').values #gamma.csv\n",
    "plt.subplots(figsize=(3.3,2),dpi=200)\n",
    "g=sns.heatmap(data[:,1:6],\n",
    "            yticklabels=data[:,0],\n",
    "            annot=True,fmt='.2f')\n",
    "g.set_xticklabels(['shape','scale','orientation','posX','posY'],rotation=30)\n",
    "plt.ylabel('$\\gamma$')\n",
    "plt.savefig('pics/gamma_NMI2.pdf')\n"
   ]
  },
  {
   "cell_type": "code",
   "execution_count": null,
   "metadata": {
    "collapsed": false,
    "pycharm": {
     "name": "#%%\n"
    }
   },
   "outputs": [],
   "source": [
    "# annealing test, without supervision\n",
    "annealing_test = pd.read_csv('results/annealing_test.csv')\n",
    "\n",
    "df = annealing_test[annealing_test['dataset']=='dsprites_full']\n",
    "plt.grid(True)\n",
    "mi = df['MI'].values\n",
    "plt.plot(df['beta'].iloc[:-1],+mi[1:]-mi[:-1])\n",
    "plt.savefig('dsprites_anneal.pdf')\n",
    "\n",
    "# udr\n",
    "import numpy as np\n",
    "def compute_gaussian_kl(z_mean, z_logvar):\n",
    "          return np.mean(\n",
    "              0.5 * (np.square(z_mean) + np.exp(z_logvar) - z_logvar - 1),\n",
    "              axis=0)\n",
    "def representation_function(encoder):\n",
    "    def _representation_function(x):\n",
    "        mu, logvar = encoder(x)\n",
    "        kl = compute_gaussian_kl(mu, logvar)\n",
    "        return (mu, kl)\n",
    "    return _representation_function\n",
    "results={}\n",
    "\n",
    "for k,v in models.items():\n",
    "    mean_rep = [ representation_function(encoder) for encoder in v]\n",
    "    results[k]=udr.compute_udr_sklearn(dataset, \n",
    "                                       mean_rep,\n",
    "                                       np.random.RandomState())\n",
    "    "
   ]
  },
  {
   "cell_type": "code",
   "execution_count": null,
   "metadata": {
    "collapsed": false,
    "pycharm": {
     "name": "#%%\n"
    }
   },
   "outputs": [],
   "source": [
    "# fluctuation\n",
    "import matplotlib.ticker as mtick\n",
    "order = [f'model-{i}.pt' for i in range(1,20,2)]\n",
    "itrs = [i*11520 for i in range(1,20,2)]\n",
    "metric_name=['beta VAE','MIG','DCI disnentanglement']\n",
    "metrics = ['eval_accuracy','discrete_mig','disentanglement']\n",
    "fig,axes = plt.subplots(1,len(metrics),figsize=(6.75,2),dpi=200)\n",
    "for j in range(3):\n",
    "    ax = axes[j]\n",
    "    ax.grid()\n",
    "    ax.set_title(metric_name[j])\n",
    "    ax.set_xlabel('Iterations')\n",
    "    ax.yaxis.set_major_formatter(mtick.FormatStrFormatter('%.2f'))\n",
    "    ax.xaxis.get_major_formatter().set_powerlimits((0,1))\n",
    "    ax.set_xlim(0,itrs[-1])\n",
    "    for i,model in enumerate([constant,tc, annealedVAE]):\n",
    "        ax.plot(itrs,[model[f][metrics[j]] for f in order])\n",
    "\n",
    "# plt.ylim(0,0.3)\n",
    "axes[0].legend([r'$\\beta$-VAE',r'$\\beta$-TCVAE','AnnealedVAE'])\n",
    "plt.savefig('pics/metric_fluctuation.pdf')\n"
   ]
  },
  {
   "cell_type": "code",
   "execution_count": null,
   "metadata": {
    "collapsed": false,
    "pycharm": {
     "name": "#%%\n"
    }
   },
   "outputs": [],
   "source": [
    "# metrics \n",
    "matplotlib.rcParams['xtick.minor.visible']=False\n",
    "metrics = ['evaluation_results.eval_accuracy','evaluation_results.discrete_mig','evaluation_results.disentanglement']\n",
    "metric_name=['beta VAE','MIG','DCI disnentanglement']\n",
    "fig,axes = plt.subplots(1,len(metrics),figsize=(6.75,2),dpi=200)\n",
    "plt.tight_layout(pad=0.1)\n",
    "for i,metric in enumerate(metrics):\n",
    "    t=df.iloc[best_model][metric].values\n",
    "    axes[i].grid(axis='y')\n",
    "    t=np.clip(t,0,1)\n",
    "    sns.violinplot(data=t.reshape(-1,50).T,ax=axes[i])\n",
    "    axes[i].set_title(metric_name[i])\n",
    "fig.savefig('pics/unstable_models.pdf')"
   ]
  },
  {
   "cell_type": "code",
   "execution_count": null,
   "metadata": {},
   "outputs": [],
   "source": []
  },
  {
   "cell_type": "code",
   "execution_count": null,
   "metadata": {
    "collapsed": false,
    "pycharm": {
     "name": "#%%\n"
    }
   },
   "outputs": [],
   "source": [
    "# comparison\n",
    "runs = list(map(api.run,['erow/dlib/a7w65vl4','erow/dlib/3vebm4of','erow/dlib/9odv037v']))\n",
    "fig,axes = plt.subplots(1,3,sharex=True,figsize=(6.85,2),dpi=200)\n",
    "plt.tight_layout()\n",
    "ax = axes[0]\n",
    "r = runs[1]\n",
    "\n",
    "df = r.history(keys=['MI'])\n",
    "ax.plot(df['_step']*50,df['MI'],label='MI')\n",
    "df = r.history(keys=['kl_loss'])\n",
    "ax.plot(df['_step']*50,df['kl_loss'],label = 'KL')\n",
    "ax.legend()\n",
    "ax.set_title('AnnealedVAE')\n",
    "\n",
    "ax = axes[1]\n",
    "r = runs[2]\n",
    "\n",
    "df = r.history(keys=['MI'])\n",
    "ax.plot(df['_step']*50,df['MI'],label='MI')\n",
    "ax.plot([5],label='Vars')\n",
    "ax.legend(loc=3)\n",
    "ax.legend()\n",
    "ax2 = ax.twinx()\n",
    "\n",
    "ax2.plot(steps[:-1],var[:-1],)\n",
    "\n",
    "ax.set_title('CascadeVAE')\n",
    "\n",
    "ax = axes[2]\n",
    "r = runs[0]\n",
    "\n",
    "df = r.history(keys=['MI'])\n",
    "ax.plot(df['_step']*50,df['MI'],label='MI')\n",
    "ax.plot([5],label='beta')\n",
    "ax.legend(loc=3)\n",
    "\n",
    "ax2 = ax.twinx()\n",
    "df = r.history(keys=['beta'])\n",
    "ax2.plot(df['_step']*50,df['beta'],'')\n",
    "\n",
    "ax.set_title('DEFT')\n",
    "plt.savefig('pics/comparison.pdf')\n",
    "\n",
    "\n",
    "fig,axes = plt.subplots(1,2,sharex=True,figsize=(6.85,2),dpi=200)\n",
    "\n",
    "ax = axes[0]\n",
    "for r in runs[:2]:\n",
    "    model=r.config['model']\n",
    "    df = r.history(keys=['discrete_mi'])\n",
    "    nmi2=df['discrete_mi'].map(NMI1)\n",
    "    ax.plot(df['_step']*50,nmi2,label=model)\n",
    "    \n",
    "for r in runs[2:]:\n",
    "    model=r.config['model']\n",
    "    df = r.history(keys=['discrete_mi'])\n",
    "    nmi2=df['discrete_mi'].map(NMI1)\n",
    "    ax.plot(df['_step']*50,nmi2,label=model)\n",
    "ax.set_xticks(np.linspace(0,70000,5))\n",
    "ax.legend(prop={'size': 5})\n",
    "\n",
    "ax = axes[1]\n",
    "for r in runs[:2]:\n",
    "    model=r.config['model']\n",
    "    df = r.history(keys=['discrete_mi'])\n",
    "    nmi2=df['discrete_mi'].map(NMI2)\n",
    "    ax.plot(df['_step']*50,nmi2,label=model)\n",
    "    \n",
    "for r in runs[2:]:\n",
    "    model=r.config['model']\n",
    "    df = r.history(keys=['discrete_mi'])\n",
    "    nmi2=df['discrete_mi'].map(NMI2)\n",
    "    ax.plot(df['_step']*50,nmi2,label=model)\n",
    "ax.legend(prop={'size': 5})\n",
    "plt.savefig('pics/NMI_comparison.pdf')"
   ]
  }
 ],
 "metadata": {
  "kernelspec": {
   "display_name": "Python 3.6.8 64-bit",
   "language": "python",
   "name": "python3"
  },
  "language_info": {
   "codemirror_mode": {
    "name": "ipython",
    "version": 2
   },
   "file_extension": ".py",
   "mimetype": "text/x-python",
   "name": "python",
   "nbconvert_exporter": "python",
   "pygments_lexer": "ipython2",
   "version": "3.6.8"
  },
  "pycharm": {
   "stem_cell": {
    "cell_type": "raw",
    "metadata": {
     "collapsed": false
    },
    "source": []
   }
  },
  "vscode": {
   "interpreter": {
    "hash": "31f2aee4e71d21fbe5cf8b01ff0e069b9275f58929596ceb00d14d90e3e16cd6"
   }
  }
 },
 "nbformat": 4,
 "nbformat_minor": 2
}
