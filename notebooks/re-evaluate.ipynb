{
 "cells": [
  {
   "cell_type": "code",
   "execution_count": 2,
   "metadata": {},
   "outputs": [],
   "source": [
    "%reload_ext autoreload\n",
    "%autoreload 2\n",
    "import torch\n",
    "from fastai.vision.all import *\n",
    "import json"
   ]
  },
  {
   "cell_type": "code",
   "execution_count": 3,
   "metadata": {},
   "outputs": [
    {
     "name": "stdout",
     "output_type": "stream",
     "text": [
      "env: DISENTANGLEMENT_LIB_DATA=/data/disentanglement\n"
     ]
    }
   ],
   "source": [
    "import sys\n",
    "sys.path.append('../')\n",
    "%env DISENTANGLEMENT_LIB_DATA=/data/disentanglement"
   ]
  },
  {
   "cell_type": "code",
   "execution_count": 4,
   "metadata": {},
   "outputs": [],
   "source": [
    "import wandb"
   ]
  },
  {
   "cell_type": "code",
   "execution_count": 5,
   "metadata": {},
   "outputs": [],
   "source": [
    "def get_df(runs):\n",
    "    id_df=pd.DataFrame({'id':[run.id for run in runs]})\n",
    "    summary_df = pd.DataFrame.from_records([{k:v for k,v in run.summary._json_dict.items() if not k.startswith('_')} for run in runs]) \n",
    "    config_df = pd.DataFrame.from_records([{k:v for k,v in run.config.items() if not k.startswith('_')} for run in runs])\n",
    "    return pd.concat([id_df,config_df,summary_df],axis=1)"
   ]
  },
  {
   "cell_type": "code",
   "execution_count": 6,
   "metadata": {},
   "outputs": [
    {
     "name": "stderr",
     "output_type": "stream",
     "text": [
      "WARNING:root:Argument blacklist is deprecated. Please use denylist.\n",
      "WARNING:root:Argument blacklist is deprecated. Please use denylist.\n",
      "WARNING:root:Argument blacklist is deprecated. Please use denylist.\n",
      "WARNING:root:Argument blacklist is deprecated. Please use denylist.\n"
     ]
    }
   ],
   "source": [
    "from disvae import init_specific_model\n",
    "def get_representation_fn(run,img_shape=[1,64,64],device='cuda',model_file=\"model.pt\"):\n",
    "    group=run.config['group']\n",
    "    dim=run.config['latent_dim']\n",
    "    model_type=run.config['model_type']\n",
    "    simultaneous = run.config['simultaneous']\n",
    "    model = init_specific_model(model_type,img_shape,dim,group)\n",
    "    ans = run.file(model_file).download('tmp',True)\n",
    "    model.load_state_dict(torch.load(ans.name))\n",
    "    model.to(device)\n",
    "    model.phase=4\n",
    "    model.eval()\n",
    "    def representation_fn(obs):\n",
    "        obs = torch.tensor(obs.transpose([0,3,1,2]),dtype=torch.float32,device=device)\n",
    "        with torch.no_grad():\n",
    "            mean,_ = model.encoder(obs)\n",
    "        return mean.cpu().numpy()\n",
    "    return representation_fn,model"
   ]
  },
  {
   "cell_type": "code",
   "execution_count": 7,
   "metadata": {},
   "outputs": [],
   "source": [
    "api = wandb.Api()"
   ]
  },
  {
   "cell_type": "code",
   "execution_count": 8,
   "metadata": {},
   "outputs": [
    {
     "name": "stderr",
     "output_type": "stream",
     "text": [
      "WARNING:root:Argument blacklist is deprecated. Please use denylist.\n",
      "WARNING:root:Argument blacklist is deprecated. Please use denylist.\n",
      "WARNING:root:Argument blacklist is deprecated. Please use denylist.\n",
      "WARNING:root:Argument blacklist is deprecated. Please use denylist.\n",
      "WARNING:root:Argument blacklist is deprecated. Please use denylist.\n",
      "WARNING:root:Argument blacklist is deprecated. Please use denylist.\n",
      "WARNING:root:Argument blacklist is deprecated. Please use denylist.\n"
     ]
    }
   ],
   "source": [
    "from disentanglement_lib.evaluation.metrics import mig,factor_vae,dci,modularity_explicitness,sap_score\n",
    "from disentanglement_lib.data.ground_truth.named_data import get_named_ground_truth_data"
   ]
  },
  {
   "cell_type": "code",
   "execution_count": 9,
   "metadata": {},
   "outputs": [],
   "source": [
    "import gin"
   ]
  },
  {
   "cell_type": "code",
   "execution_count": 10,
   "metadata": {},
   "outputs": [
    {
     "data": {
      "text/plain": [
       "ParsedConfigFileIncludesAndImports(filename='metrics_config.gin', imports=[], includes=[])"
      ]
     },
     "execution_count": 10,
     "metadata": {},
     "output_type": "execute_result"
    }
   ],
   "source": [
    "gin.parse_config_file('metrics_config.gin',True)"
   ]
  },
  {
   "cell_type": "code",
   "execution_count": 11,
   "metadata": {},
   "outputs": [],
   "source": [
    "def update_metrics(r,dataset):\n",
    "    representation_fn,model=get_representation_fn(r,r.config['img_size'])\n",
    "    \n",
    "    metrics_dict={}\n",
    "    print(time.asctime())\n",
    "    for metric_fn in [mig.compute_mig,\n",
    "                      factor_vae.compute_factor_vae,\n",
    "                      dci.compute_dci,\n",
    "                      modularity_explicitness.compute_modularity_explicitness,\n",
    "                      sap_score.compute_sap]:\n",
    "        m=metric_fn(dataset,representation_fn,np.random.RandomState())\n",
    "        print(time.asctime(),m)\n",
    "        metrics_dict.update(m)\n",
    "    r.summary.update(metrics_dict)\n",
    "    print(\"updated \", r.name, r.url)"
   ]
  },
  {
   "cell_type": "code",
   "execution_count": 17,
   "metadata": {},
   "outputs": [
    {
     "data": {
      "text/plain": [
       "<Runs erow/fractionVAE (6)>"
      ]
     },
     "execution_count": 17,
     "metadata": {},
     "output_type": "execute_result"
    }
   ],
   "source": [
    "runs = api.runs(\"erow/fractionVAE\",{\"$and\":[{\"config.dataset\":\"smallnorb\"},\n",
    "                                            {\"config.base\":\"30,15,8\"},\n",
    "                                            {\"tags\":\"compararison\"},\n",
    "#                                             {\"config.beta\":3},\n",
    "                                           {\"state\":\"finished\"}]})\n",
    "runs"
   ]
  },
  {
   "cell_type": "code",
   "execution_count": 20,
   "metadata": {},
   "outputs": [
    {
     "data": {
      "text/plain": [
       "{'bodies': [<matplotlib.collections.PolyCollection at 0x7fcdd445c4d0>],\n",
       " 'cmaxes': <matplotlib.collections.LineCollection at 0x7fcdd53f1310>,\n",
       " 'cmins': <matplotlib.collections.LineCollection at 0x7fcdd5265890>,\n",
       " 'cbars': <matplotlib.collections.LineCollection at 0x7fcdd45ef9d0>}"
      ]
     },
     "execution_count": 20,
     "metadata": {},
     "output_type": "execute_result"
    },
    {
     "data": {
      "image/png": "[encoded data removed]",
      "text/plain": [
       "<Figure size 432x288 with 1 Axes>"
      ]
     },
     "metadata": {
      "needs_background": "light"
     },
     "output_type": "display_data"
    }
   ],
   "source": [
    "df = get_df(runs,)\n",
    "plt.violinplot(df['discrete_mig'])"
   ]
  },
  {
   "cell_type": "code",
   "execution_count": 13,
   "metadata": {},
   "outputs": [
    {
     "data": {
      "text/plain": [
       "Index(['id', 'lr', 'base', 'beta', 'loss', 'name', 'seed', 'group', 'device',\n",
       "       'epochs', 'betaB_G', 'betaH_B', 'dataset', 'lr_disc', 'monitor',\n",
       "       'no_test', 'anneal_l', 'anneal_r', 'btcvae_A', 'btcvae_B', 'btcvae_G',\n",
       "       'factor_G', 'img_size', 'lr_decay', 'rec_dist', 'log_level',\n",
       "       'batch_size', 'betaB_finC', 'is_metrics', 'latent_dim', 'model_type',\n",
       "       'anneal_name', 'betaB_initC', 'anneal_count', 'is_eval_only',\n",
       "       'simultaneous', 'eval_batchsize', 'no_progress_bar', 'checkpoint_every',\n",
       "       'kl_1', 'kl_3', 'kl_8', 'loss', 'anneal_reg', 'discrete_mig', 'kl_0',\n",
       "       'kl_4', 'kl_2', 'kl_5', 'kl_9', 'KL_loss', 'discrete_mi',\n",
       "       'gt_vs_latent', 'itr', 'num_active_dims', 'informativeness_train',\n",
       "       'SAP_score', 'completeness', 'explicitness_score_train', 'kl_6',\n",
       "       'eval_accuracy', 'disentanglement', 'explicitness_score_test',\n",
       "       'train_accuracy', 'kl_7', 'recon_loss', 'discrete_d_mig',\n",
       "       'modularity_score', 'informativeness_test'],\n",
       "      dtype='object')"
      ]
     },
     "execution_count": 13,
     "metadata": {},
     "output_type": "execute_result"
    }
   ],
   "source": [
    "df.keys()"
   ]
  },
  {
   "cell_type": "code",
   "execution_count": 21,
   "metadata": {},
   "outputs": [],
   "source": [
    "dataset = get_named_ground_truth_data(runs[0].config['dataset'])"
   ]
  },
  {
   "cell_type": "code",
   "execution_count": 22,
   "metadata": {},
   "outputs": [
    {
     "name": "stdout",
     "output_type": "stream",
     "text": [
      "Sat Jan 30 09:38:15 2021\n",
      "Sat Jan 30 09:38:20 2021 {'discrete_mig': 0.2523059923061019, 'discrete_d_mig': [0.03231086534068453, 0.09397955717508673, 0.07254320763392368, 0.8103903390747126], 'discrete_mi': [[0.02953802496069402, 0.04611313996743327, 0.06579392666978043, 0.09983200280607002], [0.1157239075552735, 0.36740090091198296, 0.029003836024812983, 1.5961021804804547], [0.25638417868503166, 0.05333942616765559, 0.31158427690944274, 0.1443248416305256], [0.10268387192831979, 0.16093848828187848, 0.14897282322802335, 0.03917191961182261], [0.4237647468241739, 0.05846624690065523, 0.3284315243000643, 0.028319544923498106], [0.06463101608232862, 0.03194357030792277, 0.11487554529406255, 0.04354545959565545], [0.2947521999350133, 0.03333312137623273, 0.26926267180147856, 0.08658358351114706], [0.20358229025891542, 0.03714827919930318, 0.2789107733585411, 0.1259466855192746], [0.4757658963883637, 0.05030751734290841, 0.5380679279213934, 0.04852507439611771], [0.05347071006361498, 0.03301476946691845, 0.08614701868384968, 0.04188570109170529]]}\n",
      "Sat Jan 30 09:40:33 2021 {'train_accuracy': 0.6264, 'eval_accuracy': 0.6232, 'num_active_dims': 10}\n",
      "Sat Jan 30 09:43:10 2021 {'informativeness_train': 0.942275, 'informativeness_test': 0.9086500000000001, 'disentanglement': 0.31295901672757603, 'completeness': 0.3712494335905213}\n"
     ]
    },
    {
     "name": "stderr",
     "output_type": "stream",
     "text": [
      "/opt/anaconda3/envs/pytorch/lib/python3.7/site-packages/sklearn/linear_model/_logistic.py:764: ConvergenceWarning: lbfgs failed to converge (status=1):\n",
      "STOP: TOTAL NO. of ITERATIONS REACHED LIMIT.\n",
      "\n",
      "Increase the number of iterations (max_iter) or scale the data as shown in:\n",
      "    https://scikit-learn.org/stable/modules/preprocessing.html\n",
      "Please also refer to the documentation for alternative solver options:\n",
      "    https://scikit-learn.org/stable/modules/linear_model.html#logistic-regression\n",
      "  extra_warning_msg=_LOGISTIC_SOLVER_CONVERGENCE_MSG)\n"
     ]
    },
    {
     "name": "stdout",
     "output_type": "stream",
     "text": [
      "Sat Jan 30 09:43:19 2021 {'modularity_score': 0.7452643606476204, 'explicitness_score_train': 0.8183797330770589, 'explicitness_score_test': 0.816768955571968}\n",
      "Sat Jan 30 09:43:28 2021 {'SAP_score': 0.12340000000000001}\n",
      "updated  eager-sound-920 http://nbic-183:8080/erow/fractionVAE/runs/2pug5pso\n",
      "Sat Jan 30 09:43:29 2021\n",
      "Sat Jan 30 09:43:34 2021 {'discrete_mig': 0.2743685523435263, 'discrete_d_mig': [0.07493763852726079, 0.1403463520466901, 0.07849210647956584, 0.8036981123205886], 'discrete_mi': [[0.13997452336947738, 0.09825656964745347, 0.20758317471705395, 0.15143149093146951], [0.16404217685357425, 0.04523990753744478, 0.26703880943331104, 0.11852748190037071], [0.47775591659275507, 0.04962184076294436, 0.5247098530324525, 0.03906377255696578], [0.04738327810374392, 0.031082033047620902, 0.08078226009987764, 0.04962886847104961], [0.10061613446504974, 0.4065964450424115, 0.028960350362691945, 1.5908001819458264], [0.028369299206390263, 0.02792391229351073, 0.05368276824831606, 0.04951226098182027], [0.3571517135487071, 0.07482268880877428, 0.2979101309892712, 0.02834232633000578], [0.3279323683220161, 0.033406871930485124, 0.29785407290755184, 0.048710929193754623], [0.27116917279576747, 0.04589789707903019, 0.17742334489021852, 0.1475044296347756], [0.03220522858677298, 0.029488323583929617, 0.10071585481808908, 0.04323918787117058]]}\n",
      "Sat Jan 30 09:45:45 2021 {'train_accuracy': 0.5754, 'eval_accuracy': 0.5658, 'num_active_dims': 10}\n",
      "Sat Jan 30 09:48:21 2021 {'informativeness_train': 0.9373499999999999, 'informativeness_test': 0.9047999999999999, 'disentanglement': 0.2958301667547872, 'completeness': 0.36619474761764664}\n"
     ]
    },
    {
     "name": "stderr",
     "output_type": "stream",
     "text": [
      "/opt/anaconda3/envs/pytorch/lib/python3.7/site-packages/sklearn/linear_model/_logistic.py:764: ConvergenceWarning: lbfgs failed to converge (status=1):\n",
      "STOP: TOTAL NO. of ITERATIONS REACHED LIMIT.\n",
      "\n",
      "Increase the number of iterations (max_iter) or scale the data as shown in:\n",
      "    https://scikit-learn.org/stable/modules/preprocessing.html\n",
      "Please also refer to the documentation for alternative solver options:\n",
      "    https://scikit-learn.org/stable/modules/linear_model.html#logistic-regression\n",
      "  extra_warning_msg=_LOGISTIC_SOLVER_CONVERGENCE_MSG)\n"
     ]
    },
    {
     "name": "stdout",
     "output_type": "stream",
     "text": [
      "Sat Jan 30 09:48:31 2021 {'modularity_score': 0.7395829301833963, 'explicitness_score_train': 0.7999978618111483, 'explicitness_score_test': 0.798694699954032}\n",
      "Sat Jan 30 09:48:40 2021 {'SAP_score': 0.11865}\n",
      "updated  vocal-eon-915 http://nbic-183:8080/erow/fractionVAE/runs/38e9l3la\n",
      "Sat Jan 30 09:48:41 2021\n",
      "Sat Jan 30 09:48:46 2021 {'discrete_mig': 0.2508545287031684, 'discrete_d_mig': [0.005389703633265451, 0.1205369117092456, 0.08002198405763716, 0.7974695154125253], 'discrete_mi': [[0.1150786260797077, 0.400604320874396, 0.029056408491871133, 1.5985587913527313], [0.019528224002387823, 0.04577276225001342, 0.06465647502361466, 0.09155363527083143], [0.17562909165926022, 0.04454386297672082, 0.2974607931549623, 0.1698572942013818], [0.03385070021859041, 0.02694972984911384, 0.08485671116235526, 0.05726031142360536], [0.27118897313926715, 0.030229736737620985, 0.32667437258582643, 0.1198758602481017], [0.034466008900065806, 0.02739981627684725, 0.07407330034065068, 0.028767568804250663], [0.42542818608367716, 0.03552048680229869, 0.5579132499353312, 0.0349172531843419], [0.11393755352628385, 0.13580243726210503, 0.21629517161578138, 0.03975879154241885], [0.046480330461607045, 0.02447313811909261, 0.0839288726574261, 0.025503151985193526], [0.4167568671737789, 0.08554986469836187, 0.32040668030872044, 0.031094154268131582]]}\n",
      "Sat Jan 30 09:50:56 2021 {'train_accuracy': 0.5641, 'eval_accuracy': 0.5554, 'num_active_dims': 10}\n",
      "Sat Jan 30 09:53:34 2021 {'informativeness_train': 0.9339, 'informativeness_test': 0.8984, 'disentanglement': 0.3130507719027481, 'completeness': 0.3989081661358409}\n",
      "Sat Jan 30 09:53:43 2021 {'modularity_score': 0.7983349927593828, 'explicitness_score_train': 0.8012144102685206, 'explicitness_score_test': 0.7952567711588344}\n",
      "Sat Jan 30 09:53:52 2021 {'SAP_score': 0.12840000000000001}\n",
      "updated  quiet-elevator-911 http://nbic-183:8080/erow/fractionVAE/runs/6xgu9mdn\n",
      "Sat Jan 30 09:53:53 2021\n",
      "Sat Jan 30 09:53:58 2021 {'discrete_mig': 0.24418551351217405, 'discrete_d_mig': [0.0019970461218105726, 0.10995496165764002, 0.0867432008280795, 0.7780468454411661], 'discrete_mi': [[0.04021847331125511, 0.03473519612883277, 0.09342323634980512, 0.047421376744613615], [0.40053334940201685, 0.04463470518672427, 0.5070227351871438, 0.04736758860796008], [0.04881147153949223, 0.03451744294509208, 0.07092003569209904, 0.021109741356547394], [0.2181294341444191, 0.07470604880822929, 0.22818731843298212, 0.12506743817038282], [0.04286054324656121, 0.03140993191422842, 0.07963017501839056, 0.06089869278464529], [0.3973195402699392, 0.07358763016673123, 0.25639639024635885, 0.032269752159220386], [0.11308102367033346, 0.3507361364505718, 0.03227126668649152, 1.5478326571863417], [0.04389647580929942, 0.028407470004258147, 0.05564938413440976, 0.15418514173837505], [0.11193096495807799, 0.10915184387713063, 0.18384628151100224, 0.03788083486617148], [0.2525759467822303, 0.055387893029544964, 0.23965322391345406, 0.08775857141415809]]}\n",
      "Sat Jan 30 09:56:11 2021 {'train_accuracy': 0.5661, 'eval_accuracy': 0.5734, 'num_active_dims': 10}\n",
      "Sat Jan 30 09:58:47 2021 {'informativeness_train': 0.936525, 'informativeness_test': 0.8959, 'disentanglement': 0.2905409772495221, 'completeness': 0.371610446874982}\n",
      "Sat Jan 30 09:58:57 2021 {'modularity_score': 0.7707531464361921, 'explicitness_score_train': 0.8067617693449491, 'explicitness_score_test': 0.8037903159826292}\n",
      "Sat Jan 30 09:59:06 2021 {'SAP_score': 0.1096}\n",
      "updated  lemon-cherry-906 http://nbic-183:8080/erow/fractionVAE/runs/28pbd0ju\n",
      "Sat Jan 30 09:59:06 2021\n",
      "Sat Jan 30 09:59:11 2021 {'discrete_mig': 0.2649393260071603, 'discrete_d_mig': [0.0267834038572074, 0.137244438626977, 0.07783671823521889, 0.8178927433092379], 'discrete_mi': [[0.0994157586353562, 0.4177912342870672, 0.028810498739820598, 1.6065035042526719], [0.03999748066928044, 0.033040451831949036, 0.06806625611947478, 0.1147635210915307], [0.23364496044013341, 0.05190816607014506, 0.22975240938088135, 0.14153450934562797], [0.22124314787924174, 0.0316047896052652, 0.3007994944452669, 0.12106033221762062], [0.027639290277756922, 0.035127256696446944, 0.09235925582130534, 0.02684050798511789], [0.13777732813742385, 0.11630363889937338, 0.18114265286894216, 0.11952388775739738], [0.2294971409863926, 0.035697557647927085, 0.279157724197743, 0.13901808336734092], [0.4597838355603304, 0.04636661720655422, 0.5331556611039432, 0.03964808819545492], [0.416682823111649, 0.07146811195043135, 0.30825671247360376, 0.02926418999207548], [0.03812532032897226, 0.02884323515626387, 0.09843316066151261, 0.027311835128619247]]}\n",
      "Sat Jan 30 10:01:23 2021 {'train_accuracy': 0.5845, 'eval_accuracy': 0.5732, 'num_active_dims': 10}\n",
      "Sat Jan 30 10:04:00 2021 {'informativeness_train': 0.94025, 'informativeness_test': 0.9055500000000001, 'disentanglement': 0.31425096433586514, 'completeness': 0.38763435314496225}\n"
     ]
    },
    {
     "name": "stderr",
     "output_type": "stream",
     "text": [
      "/opt/anaconda3/envs/pytorch/lib/python3.7/site-packages/sklearn/linear_model/_logistic.py:764: ConvergenceWarning: lbfgs failed to converge (status=1):\n",
      "STOP: TOTAL NO. of ITERATIONS REACHED LIMIT.\n",
      "\n",
      "Increase the number of iterations (max_iter) or scale the data as shown in:\n",
      "    https://scikit-learn.org/stable/modules/preprocessing.html\n",
      "Please also refer to the documentation for alternative solver options:\n",
      "    https://scikit-learn.org/stable/modules/linear_model.html#logistic-regression\n",
      "  extra_warning_msg=_LOGISTIC_SOLVER_CONVERGENCE_MSG)\n"
     ]
    },
    {
     "name": "stdout",
     "output_type": "stream",
     "text": [
      "Sat Jan 30 10:04:10 2021 {'modularity_score': 0.7531510906961257, 'explicitness_score_train': 0.8104119541797988, 'explicitness_score_test': 0.8082461322184238}\n",
      "Sat Jan 30 10:04:19 2021 {'SAP_score': 0.11100000000000002}\n",
      "updated  true-oath-902 http://nbic-183:8080/erow/fractionVAE/runs/1p5n07ug\n",
      "Sat Jan 30 10:04:20 2021\n",
      "Sat Jan 30 10:04:25 2021 {'discrete_mig': 0.2563960485335597, 'discrete_d_mig': [0.002025292038828833, 0.11800208258126181, 0.07519550957786612, 0.8303613099362819], 'discrete_mi': [[0.03286440255433864, 0.04402616639716797, 0.07382841861122702, 0.04807343824934635], [0.11495062572039506, 0.3883710352260352, 0.02566075009595961, 1.5948169190467223], [0.2750595313651775, 0.02850393219267194, 0.2527133047544008, 0.10704245160133673], [0.2949308561468235, 0.05990831269948681, 0.26382016437908407, 0.09019551580253378], [0.46579068253056893, 0.041998498477346824, 0.555644709816884, 0.04003396107467277], [0.027396778118834314, 0.02717531520412772, 0.09600144462453258, 0.0229425934593798], [0.12927482308089586, 0.025710531800378605, 0.13260730527398817, 0.048089239218490926], [0.4690499112667279, 0.08022240842563932, 0.3383388664670195, 0.01961655528892694], [0.12625893542266772, 0.06485681654591668, 0.2518203721170147, 0.03695124310630914], [0.12248708441165376, 0.1291165983630895, 0.2469974269132136, 0.10230382378178782]]}\n",
      "Sat Jan 30 10:06:37 2021 {'train_accuracy': 0.5632, 'eval_accuracy': 0.5656, 'num_active_dims': 10}\n",
      "Sat Jan 30 10:09:13 2021 {'informativeness_train': 0.942825, 'informativeness_test': 0.9064, 'disentanglement': 0.3060424000781445, 'completeness': 0.3686849819156771}\n"
     ]
    },
    {
     "name": "stderr",
     "output_type": "stream",
     "text": [
      "/opt/anaconda3/envs/pytorch/lib/python3.7/site-packages/sklearn/linear_model/_logistic.py:764: ConvergenceWarning: lbfgs failed to converge (status=1):\n",
      "STOP: TOTAL NO. of ITERATIONS REACHED LIMIT.\n",
      "\n",
      "Increase the number of iterations (max_iter) or scale the data as shown in:\n",
      "    https://scikit-learn.org/stable/modules/preprocessing.html\n",
      "Please also refer to the documentation for alternative solver options:\n",
      "    https://scikit-learn.org/stable/modules/linear_model.html#logistic-regression\n",
      "  extra_warning_msg=_LOGISTIC_SOLVER_CONVERGENCE_MSG)\n"
     ]
    },
    {
     "name": "stdout",
     "output_type": "stream",
     "text": [
      "Sat Jan 30 10:09:23 2021 {'modularity_score': 0.7776560195355562, 'explicitness_score_train': 0.8213979153432335, 'explicitness_score_test': 0.8155099419646326}\n",
      "Sat Jan 30 10:09:32 2021 {'SAP_score': 0.12295000000000003}\n",
      "updated  treasured-water-898 http://nbic-183:8080/erow/fractionVAE/runs/2v2s6brn\n"
     ]
    }
   ],
   "source": [
    "for r in runs:\n",
    "    update_metrics(r,dataset)"
   ]
  },
  {
   "cell_type": "code",
   "execution_count": null,
   "metadata": {},
   "outputs": [],
   "source": []
  }
 ],
 "metadata": {
  "kernelspec": {
   "display_name": "pytorch",
   "language": "python",
   "name": "pytorch"
  },
  "language_info": {
   "codemirror_mode": {
    "name": "ipython",
    "version": 3
   },
   "file_extension": ".py",
   "mimetype": "text/x-python",
   "name": "python",
   "nbconvert_exporter": "python",
   "pygments_lexer": "ipython3",
   "version": "3.7.6"
  }
 },
 "nbformat": 4,
 "nbformat_minor": 4
}
