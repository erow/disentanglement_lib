{
 "cells": [
  {
   "cell_type": "code",
   "execution_count": null,
   "metadata": {
    "collapsed": true
   },
   "outputs": [],
   "source": [
    "from fastai.vision.all import *\n",
    "import pytorch_lightning as pl"
   ]
  },
  {
   "cell_type": "code",
   "execution_count": null,
   "outputs": [],
   "source": [
    "class Permutation(nn.Module):\n",
    "    def __init__(self, img_size):\n",
    "        super().__init__()\n",
    "        permutation = torch.randperm(np.prod(img_size))\n",
    "       \n",
    "        self.register_buffer('permutation',permutation)\n",
    "        self.register_buffer('inverse_permutation', torch.argsort(permutation))\n",
    "    \n",
    "    def forward(self,x):\n",
    "        shape = x.shape\n",
    "        x = x.reshape(shape[0], shape[1], shape[2]*shape[3])\n",
    "        perm_x = x[:,:,self.permutation]\n",
    "        return perm_x.reshape(*shape) "
   ],
   "metadata": {
    "collapsed": false,
    "pycharm": {
     "name": "#%%\n"
    }
   }
  }
 ],
 "metadata": {
  "kernelspec": {
   "display_name": "Python 3",
   "language": "python",
   "name": "python3"
  },
  "language_info": {
   "codemirror_mode": {
    "name": "ipython",
    "version": 2
   },
   "file_extension": ".py",
   "mimetype": "text/x-python",
   "name": "python",
   "nbconvert_exporter": "python",
   "pygments_lexer": "ipython2",
   "version": "2.7.6"
  },
  "pycharm": {
   "stem_cell": {
    "cell_type": "raw",
    "source": [],
    "metadata": {
     "collapsed": false
    }
   }
  }
 },
 "nbformat": 4,
 "nbformat_minor": 0
}